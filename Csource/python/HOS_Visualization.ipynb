{
 "cells": [
  {
   "cell_type": "code",
   "execution_count": 1,
   "metadata": {
    "collapsed": false
   },
   "outputs": [],
   "source": [
    "import h5py\n",
    "import os\n",
    "import types\n",
    "import numpy as np\n",
    "import matplotlib.pyplot as plt\n",
    "import matplotlib.animation as animation"
   ]
  },
  {
   "cell_type": "markdown",
   "metadata": {},
   "source": [
    "# HOS : A high-order spectral model to solve the Euler equations.\n",
    "\n",
    "This ipython notebook contains plotting routines to visualize the HOS model output.\n",
    "\n",
    "The code can be found on **GitHub**: \n",
    "- brennanj/hos (master); \n",
    "- beisiegel/hos (fork - current)\n",
    "\n",
    "Questions can be directed to @beisiegel on Github.\n",
    "\n",
    "#### Some general remarks on the output files\n",
    "\n",
    "The model produces output files of the form\n",
    "- data[xxx].1.h5\n",
    "- data_extra[xxx].1.h5\n",
    "\n",
    "with [xxx] $\\in [0, \\mbox{maxtimestep}]$. Leading zeros are left out. The files contain information on the sea surface elevation and potential velocity."
   ]
  },
  {
   "cell_type": "code",
   "execution_count": 2,
   "metadata": {
    "collapsed": false
   },
   "outputs": [],
   "source": [
    "def PlotSingleFile(DIR, filename):\n",
    "    f = h5py.File(DIR+fileName, \"r\")\n",
    "\n",
    "    # Get the attributes that are contained in the file\n",
    "    dataset = f.keys()[:]\n",
    "\n",
    "    print 'Note: Information contained in this dataset: ' + str(dataset)\n",
    "\n",
    "    size = f[dataset[5]].shape\n",
    "    time = f[dataset[6]][0]\n",
    "\n",
    "    # Create a grid for plotting phi and eta\n",
    "    xx  = np.arange(0,size[0])\n",
    "    X,Y = np.meshgrid(xx,xx)\n",
    "\n",
    "    # Plot of the sea surface elevation\n",
    "    fig = plt.figure(1)\n",
    "    plt.contourf(X,Y,f[dataset[4]][:,:])\n",
    "    plt.xlim(0,size[0])\n",
    "    plt.ylim(0,size[0])\n",
    "    plt.xlabel('x')\n",
    "    plt.ylabel('y')\n",
    "    plt.colorbar()\n",
    "    plt.title('Sea surface elevation $\\eta$ at time t='+str(time[0]))\n",
    "\n",
    "    # Plot of the velocity potential\n",
    "    fig = plt.figure(2)\n",
    "    plt.contourf(X,Y,f[dataset[5]][:,:])\n",
    "    plt.xlim(0,size[0])\n",
    "    plt.ylim(0,size[0])\n",
    "    plt.xlabel('x')\n",
    "    plt.ylabel('y')\n",
    "    plt.colorbar()\n",
    "    plt.title('Velocity potential $\\phi$ at time t='+str(time[0]))\n",
    "\n",
    "    plt.show()\n",
    "    f.close()"
   ]
  },
  {
   "cell_type": "code",
   "execution_count": 3,
   "metadata": {
    "collapsed": false
   },
   "outputs": [
    {
     "name": "stdout",
     "output_type": "stream",
     "text": [
      "Note: Information contained in this dataset: [u'Lx', u'Ly', u'Nx', u'Ny', u'eta', u'phi', u'time']\n"
     ]
    }
   ],
   "source": [
    "# Example Plot\n",
    "\n",
    "DIR      = \"/home/nicole/Development/hos/Csource/2d/\"\n",
    "fileName = \"data0.1.h5\"\n",
    "\n",
    "PlotSingleFile(DIR, fileName)"
   ]
  },
  {
   "cell_type": "code",
   "execution_count": 18,
   "metadata": {
    "collapsed": false
   },
   "outputs": [],
   "source": [
    "def PlotAnimation(DIR, keyword):\n",
    "    idx   = []\n",
    "    files = []\n",
    "\n",
    "    if keyword == 'eta':\n",
    "        val = 4\n",
    "    else: \n",
    "        if keyword == 'phy':\n",
    "            val = 5\n",
    "        else:\n",
    "            print 'Please provide a valid keyword from [eta, phy]'\n",
    "    \n",
    "    # Pick and sort all data files\n",
    "    for file in os.listdir(DIR):\n",
    "        if (file.startswith('data') & (file[4:7] != '_ex')):\n",
    "            idx.append(int(float(file[4:7])))\n",
    "            files.append(file) #(file[4:12])\n",
    "\n",
    "    files = [x for (y,x) in sorted(zip(idx,files))]\n",
    "\n",
    "    #plt.ion()\n",
    "    fig = plt.figure(3)\n",
    "\n",
    "    for fileName in files:\n",
    "        f = h5py.File(DIR+fileName, \"r\")\n",
    "\n",
    "        # Get the attributes that are contained in the file\n",
    "        dataset = f.keys()[:]\n",
    "        time = f[dataset[6]][0]\n",
    "        size = f[dataset[5]].shape\n",
    "        \n",
    "        # Create a grid for plotting phi and eta\n",
    "        xx  = np.arange(0,size[0])\n",
    "        X,Y = np.meshgrid(xx,xx)\n",
    "\n",
    "        plt.clf()\n",
    "        plt.contourf(X,Y,f[dataset[val]][:,:], np.arange(-.25,.25,.005))\n",
    "        plt.xlim(0,size[0])\n",
    "        plt.ylim(0,size[0])\n",
    "        plt.xlabel('x')\n",
    "        plt.ylabel('y')\n",
    "\n",
    "        plt.colorbar() \n",
    "        plt.title('Sea surface elevation $\\eta$ at time t=' + str(time[0]))\n",
    "\n",
    "        plt.draw()\n",
    "        f.close()\n",
    "        plt.show(block=False)\n",
    "        \n",
    "    plt.close(fig)"
   ]
  },
  {
   "cell_type": "code",
   "execution_count": 21,
   "metadata": {
    "collapsed": false
   },
   "outputs": [],
   "source": [
    "# Example Animation\n",
    "\n",
    "DIR   = \"/home/nicole/Development/hos/Csource/2d/\"\n",
    "\n",
    "PlotAnimation(DIR, 'phy')"
   ]
  },
  {
   "cell_type": "code",
   "execution_count": null,
   "metadata": {
    "collapsed": true
   },
   "outputs": [],
   "source": []
  }
 ],
 "metadata": {
  "kernelspec": {
   "display_name": "Python 2",
   "language": "python",
   "name": "python2"
  },
  "language_info": {
   "codemirror_mode": {
    "name": "ipython",
    "version": 2
   },
   "file_extension": ".py",
   "mimetype": "text/x-python",
   "name": "python",
   "nbconvert_exporter": "python",
   "pygments_lexer": "ipython2",
   "version": "2.7.6"
  }
 },
 "nbformat": 4,
 "nbformat_minor": 0
}
