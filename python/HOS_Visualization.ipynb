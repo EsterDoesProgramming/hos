{
 "cells": [
  {
   "cell_type": "code",
   "execution_count": 1,
   "metadata": {
    "collapsed": false
   },
   "outputs": [],
   "source": [
    "import h5py\n",
    "import os\n",
    "import types\n",
    "import numpy as np\n",
    "import matplotlib.pyplot as plt\n",
    "import matplotlib.animation as animation"
   ]
  },
  {
   "cell_type": "markdown",
   "metadata": {},
   "source": [
    "# HOS : A high-order spectral model to solve the Euler equations.\n",
    "\n",
    "This ipython notebook contains plotting routines to visualize the HOS model output.\n",
    "\n",
    "The code can be found on **GitHub**: \n",
    "- brennanj/hos (master); \n",
    "- beisiegel/hos (fork - current)\n",
    "\n",
    "Questions can be directed to @beisiegel on Github.\n",
    "\n",
    "#### Some general remarks on the output files\n",
    "\n",
    "The model produces output files of the form\n",
    "- data[xxx].1.h5\n",
    "- data_extra[xxx].1.h5\n",
    "\n",
    "with [xxx] $\\in [0, \\mbox{maxtimestep}]$. Leading zeros are left out. The files contain information on the sea surface elevation and potential velocity."
   ]
  },
  {
   "cell_type": "code",
   "execution_count": 62,
   "metadata": {
    "collapsed": false
   },
   "outputs": [],
   "source": [
    "def PlotSingleFile(DIR, filename):\n",
    "    f = h5py.File(DIR+fileName, \"r\")\n",
    "\n",
    "    # Get the attributes that are contained in the file\n",
    "    dataset = f.keys()[:]\n",
    "\n",
    "    print 'Note: Information contained in this dataset: ' + str(dataset)\n",
    "\n",
    "    size = f[dataset[5]].shape\n",
    "    time = f[dataset[6]][0]\n",
    "    \n",
    "    # discretization (number of grid cells)\n",
    "    Nx   = f[dataset[2]][0]\n",
    "    Ny   = f[dataset[3]][0]\n",
    "    \n",
    "    # total length of the domain\n",
    "    Lx   = f[dataset[0]][0]\n",
    "    Ly   = f[dataset[1]][0]\n",
    "    \n",
    "    Kx = np.asarray([y * 2. * np.pi/Ly for y in np.arange(-Nx/2,Nx/2-1)])                                                                                                                                                                      \n",
    "    Ky = np.asarray([y * 2. * np.pi/Ly for y in np.arange(-Ny/2,Ny/2-1)])\n",
    "    \n",
    "    x = np.asarray([(Lx / Nx) * x for x in np.arange(0,Nx,1)])\n",
    "    y = np.asarray([(Ly / Ny) * y for y in np.arange(0,Ny,1)])\n",
    "\n",
    "    X,Y = np.meshgrid(x,y)\n",
    "\n",
    "    # Plot of the sea surface elevation\n",
    "    fig = plt.figure()\n",
    "    plt.subplot(211)\n",
    "    plt.contourf(X,Y,f[dataset[4]][:,:], cmap = plt.get_cmap(\"Blues\"))\n",
    "    plt.xlim(0,Lx)\n",
    "    plt.ylim(0,Ly)\n",
    "    plt.xlabel('x')\n",
    "    plt.ylabel('y')\n",
    "    plt.colorbar()\n",
    "    plt.title('Sea surface elevation $\\eta$ at time t='+str(time[0]))\n",
    "\n",
    "    # Plot of the velocity potential\n",
    "    plt.subplot(212)\n",
    "    \n",
    "    indx = 5\n",
    "    if (f.keys()[5] == 'g'): indx = 6\n",
    "    \n",
    "    plt.contourf(X,Y,f[dataset[indx]][:,:], cmap = plt.get_cmap(\"Blues\"))\n",
    "    plt.xlim(0,Lx)\n",
    "    plt.ylim(0,Ly)\n",
    "    plt.xlabel('x')\n",
    "    plt.ylabel('y')\n",
    "    plt.title('Velocity potential $\\phi$ at time t='+str(time[0]))\n",
    "\n",
    "    plt.colorbar()\n",
    "    plt.tight_layout()\n",
    "    plt.show()\n",
    "    f.close()\n",
    "    plt.close(fig)"
   ]
  },
  {
   "cell_type": "code",
   "execution_count": 63,
   "metadata": {
    "collapsed": false
   },
   "outputs": [
    {
     "name": "stdout",
     "output_type": "stream",
     "text": [
      "Note: Information contained in this dataset: [u'Lx', u'Ly', u'Nx', u'Ny', u'eta', u'g', u'phi', u'time']\n"
     ]
    }
   ],
   "source": [
    "# Example Plot\n",
    "\n",
    "DIR      = \"/home/nicole/Development/hos/Csource/2dpar/testsuite_2016-02-24/test/\"\n",
    "fileName = \"data0.1.h5\"\n",
    "\n",
    "PlotSingleFile(DIR, fileName)"
   ]
  },
  {
   "cell_type": "code",
   "execution_count": 24,
   "metadata": {
    "collapsed": false
   },
   "outputs": [],
   "source": [
    "def PlotAnimation(DIR, keyword):\n",
    "    idx   = []\n",
    "    files = []\n",
    "\n",
    "    \n",
    "    # Pick and sort all data files\n",
    "    for file in os.listdir(DIR):\n",
    "        if (file.startswith('data') & (file[4:7] != '_ex')):\n",
    "            idx.append(int(float(file[4:7])))\n",
    "            files.append(file) #(file[4:12])\n",
    "\n",
    "    files = [x for (y,x) in sorted(zip(idx,files))]\n",
    "\n",
    "    #plt.ion()\n",
    "    fig = plt.figure(3)\n",
    "\n",
    "    for fileName in files:\n",
    "        f = h5py.File(DIR+fileName, \"r\")\n",
    "        \n",
    "        # Get the attributes that are contained in the file\n",
    "        dataset = f.keys()[:]    \n",
    "        indx_time = dataset.index(u'time')\n",
    "        \n",
    "        time = f[dataset[indx_time]][0]\n",
    "        size = f[dataset[dataset.index(keyword)]].shape\n",
    "        \n",
    "        # Create a grid for plotting phi and eta\n",
    "        xx  = np.arange(0,size[0])\n",
    "        X,Y = np.meshgrid(xx,xx)\n",
    "\n",
    "        plt.clf()\n",
    "        plt.contourf(X,Y,f[dataset[dataset.index(keyword)]][:,:], cmap = plt.get_cmap(\"Blues\")) #, np.arange(-.25,.25,.005))\n",
    "        plt.xlim(0,size[0])\n",
    "        plt.ylim(0,size[0])\n",
    "        plt.xlabel('x')\n",
    "        plt.ylabel('y')\n",
    "        plt.title('Sea surface elevation $\\eta$ at time t=' + str(time[0]))\n",
    "\n",
    "        plt.draw()\n",
    "        plt.colorbar() \n",
    "        f.close()\n",
    "    \n",
    "        plt.show(block=False)    \n",
    "        plt.close(fig)"
   ]
  },
  {
   "cell_type": "code",
   "execution_count": 25,
   "metadata": {
    "collapsed": false
   },
   "outputs": [],
   "source": [
    "# Example Animation\n",
    "\n",
    "DIR   = \"/home/nicole/Development/hos/Csource/2dpar/\"\n",
    "#keyword = str(u'eta')\n",
    "PlotAnimation(DIR,u'eta')"
   ]
  },
  {
   "cell_type": "markdown",
   "metadata": {
    "collapsed": true
   },
   "source": [
    "## Statistical Evaluations"
   ]
  },
  {
   "cell_type": "code",
   "execution_count": 12,
   "metadata": {
    "collapsed": false
   },
   "outputs": [],
   "source": [
    "def PlotStatistics(DIR):\n",
    "    \n",
    "    iBound = 5\n",
    "    idx    = []\n",
    "    files  = []\n",
    "    \n",
    "    for file in os.listdir(DIR):\n",
    "        if (file.startswith('data') & (file[4:7] != '_ex')):\n",
    "            idx.append(int(float(file[4:7])))\n",
    "            files.append(file) #(file[4:12])\n",
    "\n",
    "    files = [x for (y,x) in sorted(zip(idx,files))]\n",
    "\n",
    "    N = len(files)\n",
    "    \n",
    "    # Initialize vectors\n",
    "    kurt  = [] #np.zeros(1,N)\n",
    "    skew  = [] #np.zeros(1,N)\n",
    "    t     = [] #np.zeros(1,N)\n",
    "        \n",
    "    \n",
    "    for i, fileName in enumerate(files):\n",
    "        f = h5py.File(DIR+fileName, \"r\")\n",
    "\n",
    "        # read in all the data\n",
    "        dataset = f.keys()[:]\n",
    "        \n",
    "        time = f[dataset[dataset.index(u'time')]][0] \n",
    "        eta  = f[dataset[dataset.index(u'eta')]][:,:] \n",
    "        phi  = f[dataset[dataset.index(u'phi')]][:,:] \n",
    "        Lx   = f[dataset[dataset.index(u'Lx')]][0] \n",
    "        Ly   = f[dataset[dataset.index(u'Ly')]][0] \n",
    "        Nx   = int(f[dataset[dataset.index(u'Nx')]][0][0])\n",
    "        Ny   = int(f[dataset[dataset.index(u'Nx')]][0][0])\n",
    "        g    = 9.81 #adjust to parallel version!!\n",
    "    \n",
    "        edge  = np.arange(-iBound,iBound,0.01)\n",
    "        gauss = np.exp(np.asarray([-.5*x**2 for x in edge]))\n",
    "   \n",
    "        Kx = np.asarray([2 * np.pi / Lx * x for x in np.arange(-Nx / 2,Nx / 2)])\n",
    "        Ky = np.asarray([2 * np.pi / Ly * y for y in np.arange(-Ny / 2,Ny / 2)])\n",
    "        x  = np.asarray([Lx / Nx * a for a in np.arange(0,Nx)])\n",
    "        y  = np.asarray([Ly / Ny * b for b in np.arange(0,Ny)])\n",
    "\n",
    "        eta_vec = eta.reshape((1,Nx * Ny))\n",
    "\n",
    "        t.append(i) \n",
    "\n",
    "        mu3     = np.mean(np.power(np.asarray([ ev - np.mean(eta_vec) for ev in eta_vec]),3))\n",
    "        mu4     = np.mean(np.power(np.asarray([ ev - np.mean(eta_vec) for ev in eta_vec]),4))\n",
    "        \n",
    "        # compute kurtosis and skewness of the sea surface displacement eta.\n",
    "        skew.append(mu3/np.power(np.std(eta_vec),3))\n",
    "        kurt.append(mu4/np.power(np.std(eta_vec),4))\n",
    "\n",
    "        # normalization\n",
    "        eta_vec = (eta_vec - np.mean(eta_vec))/np.std(eta_vec);\n",
    "        pdf,pdf_edges = np.histogram(eta_vec,edge)\n",
    "        \n",
    "        norm_g  = np.asarray([ gs * np.max(pdf) for gs in gauss])\n",
    "           \n",
    "        plt.figure(1)\n",
    "        plt.gca().set_yscale('log')\n",
    "        plt.plot(edge,norm_g,'r',linewidth=2)\n",
    "        #hold on\n",
    "        plt.plot(edge[:len(pdf)],pdf.T,'b')\n",
    "        \n",
    "        \n",
    "        plt.xlim(-5,5)\n",
    "        plt.ylim(.5,10**4)\n",
    "        plt.title ('$\\eta$ probabilty density function') \n",
    "        #legend('Normal Distribution','\\eta PDF','location','NorthWest')\n",
    "        plt.legend()\n",
    "        plt.draw()\n",
    "\n",
    "    tvec = np.asarray([elmt * 60. for elmt in t])\n",
    "\n",
    "    plt.figure(2)\n",
    "    plt.plot(tvec,kurt,'bd-');\n",
    "    plt.title ('Kurtosis evolution') \n",
    "    plt.xlabel ('time (s)') \n",
    "    plt.ylabel ('kurtosis') \n",
    "\n",
    "    plt.figure(3)\n",
    "    plt.plot(tvec,skew,'ro-');\n",
    "    plt.title ('Skewness evolution') \n",
    "    plt.xlabel ('time (s)') \n",
    "    plt.ylabel ('skewness') \n",
    "\n",
    "        \n",
    "    plt.show()\n",
    "    plt.close()"
   ]
  },
  {
   "cell_type": "code",
   "execution_count": 13,
   "metadata": {
    "collapsed": false
   },
   "outputs": [],
   "source": [
    "# Example Statistics\n",
    "\n",
    "DIR   = \"/home/nicole/Development/hos/Csource/2dpar/\" #testsuite_2016-03-01/test4thOrder/\"\n",
    "\n",
    "PlotStatistics(DIR)"
   ]
  },
  {
   "cell_type": "markdown",
   "metadata": {},
   "source": [
    "## Plot (Directional) Spectrum\n",
    "\n",
    "Compute and plot the spectrum of eta. This is the python script that mimics visualize.m from the HOS."
   ]
  },
  {
   "cell_type": "code",
   "execution_count": 64,
   "metadata": {
    "collapsed": false
   },
   "outputs": [],
   "source": [
    "import FtoD as aux\n",
    "import OmegaTheta as aux2"
   ]
  },
  {
   "cell_type": "code",
   "execution_count": 65,
   "metadata": {
    "collapsed": true
   },
   "outputs": [],
   "source": [
    "def pol2cart(rho, phi):\n",
    "    x = rho * np.cos(phi)\n",
    "    y = rho * np.sin(phi)\n",
    "    return(x, y)"
   ]
  },
  {
   "cell_type": "code",
   "execution_count": 100,
   "metadata": {
    "collapsed": false
   },
   "outputs": [],
   "source": [
    "def PlotSpectra(DIR, filename):\n",
    "    f = h5py.File(DIR+fileName, \"r\")\n",
    "\n",
    "    # Get the attributes that are contained in the file\n",
    "    dataset = f.keys()[:]\n",
    "\n",
    "    size = f[dataset[5]].shape\n",
    "    time = f[dataset[6]][0]\n",
    "    \n",
    "    # discretization (number of grid cells)\n",
    "    Nx   = f[dataset[dataset.index(u'Nx')]][0]\n",
    "    Ny   = f[dataset[dataset.index(u'Ny')]][0]\n",
    "    \n",
    "    # total length of the domain\n",
    "    Lx   = f[dataset[dataset.index(u'Lx')]][0]\n",
    "    Ly   = f[dataset[dataset.index(u'Ly')]][0]\n",
    "    \n",
    "    time = f[dataset[dataset.index(u'time')]][0] \n",
    "    eta  = f[dataset[dataset.index(u'eta')]][:,:] \n",
    "    phi  = f[dataset[dataset.index(u'phi')]][:,:] \n",
    "    g    = f[dataset[dataset.index(u'g')]][0] #9.8 or 1.0\n",
    "     \n",
    "    Kx = np.asarray([y * 2. * np.pi/Ly for y in np.arange(-Nx/2,Nx/2)])                                                                                                                                                                      \n",
    "    Ky = np.asarray([y * 2. * np.pi/Ly for y in np.arange(-Ny/2,Ny/2)])\n",
    "    \n",
    "    #print Kx\n",
    "    \n",
    "    x = np.asarray([(Lx / Nx) * w for w in np.arange(0,Nx,1)])\n",
    "    y = np.asarray([(Ly / Ny) * w for w in np.arange(0,Ny,1)])\n",
    "    \n",
    "    #print x\n",
    "\n",
    "    X,Y = np.meshgrid(x,y)\n",
    "\n",
    "    # Plot of the spectra\n",
    "    fig = plt.figure()\n",
    "\n",
    "    #transform_eta = np.fft.fftshift(np.fft.fft2(eta.T))\n",
    "    #transform_phi = np.fft.fftshift(np.fft.fft2(phi.T))\n",
    "    \n",
    "    #hetaD = \\#FtoD.FtoD(transform_eta, transform_phi, Kx, Ky,g)\n",
    "    hetaD     = np.fft.fftshift(np.fft.fft2(eta.T)) #aux.FtoD(transform_eta, transform_phi, Kx, Ky,g=g)\n",
    "    SpectrumD = np.abs(hetaD)\n",
    "    #SpectrumD = SpectrumD.T                                                                                                                                                                                 \n",
    "                                                                                                                                                       \n",
    "    Spectrum = abs(np.fft.fftshift(np.fft.fft2(eta)));                                                                                                                                  \n",
    "    \n",
    "    vecKx = np.zeros(np.size(Kx))\n",
    "    vecKy = np.zeros(np.size(Ky))\n",
    "    \n",
    "    for m in np.arange(np.size(Kx)):\n",
    "        vecKx[m]= Kx[m][0] / 0.033\n",
    "        vecKy[m]= Ky[m][0] / 0.033\n",
    "    \n",
    "    plt.subplot(2,2,1)  \n",
    "    plt.loglog(Kx,Spectrum.T[int(Ny/2+1),:])  \n",
    "    plt.xlabel('frequency? (log)')\n",
    "    plt.ylabel('spectrum (magnitude)(log)')\n",
    "    plt.draw()     \n",
    "\n",
    "    plt.subplot(2,2,2)   \n",
    "    plt.imshow(np.log10(Spectrum.T), extent = [vecKx[0], vecKx[len(vecKx)-1], vecKy[0], vecKy[len(vecKy)-1]], aspect=1)\n",
    "                                                                                                                         \n",
    "    plt.grid()  \n",
    "    plt.draw()\n",
    "    plt.title('Spectrum? (log)')\n",
    "    plt.colorbar()\n",
    "    \n",
    "    plt.subplot(2,2,3, aspect = 'equal')\n",
    "    omega, theta = aux2.OmegaTheta(vecKx, vecKy, g=g);      \n",
    "    X,Y = pol2cart(omega, theta)            \n",
    "    \n",
    "    #np.reshape(SpectrumD,())\n",
    "    #plt.contourf(X,Y,SpectrumD) #, aspect = 10)   \n",
    "    plt.contourf(X, Y, SpectrumD, cmap = 'Greys')\n",
    "    #plt.axis([-2, 2, -2, 2])  \n",
    "    plt.xlim([2,6])\n",
    "    plt.ylim([-1.5,1.5])\n",
    "    \n",
    "    \n",
    "    plt.subplot(2,2,4)\n",
    "    plt.plot(Kx, SpectrumD[int(Ny/2+1),:])\n",
    "    plt.title('Lineplot of directional spectrum')\n",
    "    plt.xlabel('kx')\n",
    "    plt.xlim(0,np.amax(Kx))\n",
    "                                                                                                                                                                                              \n",
    "    plt.grid()  \n",
    "    plt.colorbar()\n",
    "    \n",
    "    plt.tight_layout()\n",
    "    plt.show()\n",
    "    \n",
    "    f.close()\n",
    "    plt.close(fig)\n",
    "    "
   ]
  },
  {
   "cell_type": "code",
   "execution_count": 101,
   "metadata": {
    "collapsed": false,
    "scrolled": true
   },
   "outputs": [],
   "source": [
    "# Example Spectra\n",
    "\n",
    "DIR      = \"/home/nicole/Development/hos/Csource/2dpar/\"\n",
    "\n",
    "fileName = \"data0.1.h5\"\n",
    "PlotSpectra(DIR, fileName)\n",
    "\n",
    "#fileName = \"data150.1.h5\"\n",
    "#PlotSpectra(DIR, fileName)"
   ]
  },
  {
   "cell_type": "code",
   "execution_count": null,
   "metadata": {
    "collapsed": true
   },
   "outputs": [],
   "source": []
  }
 ],
 "metadata": {
  "kernelspec": {
   "display_name": "Python 2",
   "language": "python",
   "name": "python2"
  },
  "language_info": {
   "codemirror_mode": {
    "name": "ipython",
    "version": 2
   },
   "file_extension": ".py",
   "mimetype": "text/x-python",
   "name": "python",
   "nbconvert_exporter": "python",
   "pygments_lexer": "ipython2",
   "version": "2.7.6"
  }
 },
 "nbformat": 4,
 "nbformat_minor": 0
}
