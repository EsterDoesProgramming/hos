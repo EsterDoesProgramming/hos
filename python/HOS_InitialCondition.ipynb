{
 "cells": [
  {
   "cell_type": "code",
   "execution_count": 1,
   "metadata": {
    "collapsed": false
   },
   "outputs": [],
   "source": [
    "import numpy as np\n",
    "import h5py\n",
    "import os.path as op\n",
    "import os \n",
    "import JONSWAP as J\n",
    "import OmegaTheta as OT\n",
    "import CreateSpectra as CS\n",
    "import DtoF as DF\n",
    "import bathymetry as B\n",
    "import matplotlib.pyplot as plt\n",
    "from mpl_toolkits.mplot3d import Axes3D"
   ]
  },
  {
   "cell_type": "markdown",
   "metadata": {},
   "source": [
    "# HOS: Initial Conditions\n",
    "\n",
    "This script produces initial conditions in HDF5 format for the HOS model."
   ]
  },
  {
   "cell_type": "code",
   "execution_count": 2,
   "metadata": {
    "collapsed": false
   },
   "outputs": [],
   "source": [
    "def write_hdf5(SimFolder, TestName, Nx, Ny, Lx, Ly, g, h, T, dtsave, saveflg, runsubid, Tramp, etar, phir, bathy):\n",
    "\n",
    "    filename = SimFolder + 'initpars_' + str(TestName) + '.h5'\n",
    "    \n",
    "    if op.exists(filename): \n",
    "        os.remove(filename)\n",
    "    \n",
    "    with h5py.File(filename,'w') as file:\n",
    "\n",
    "        file.create_dataset('Nx', data = Nx)\n",
    "        file.create_dataset('Ny', data = Ny)\n",
    "        file.create_dataset('Lx', data = Lx)\n",
    "        file.create_dataset('Ly', data = Ly)\n",
    "        file.create_dataset('g', data = g)\n",
    "        file.create_dataset('KP', data = 10000)\n",
    "        file.create_dataset('h', data = h)\n",
    "        file.create_dataset('T', data = T)\n",
    "        file.create_dataset('dtsave', data = dtsave)\n",
    "        file.create_dataset('saveflg', data = saveflg)\n",
    "        file.create_dataset('runsubid', data = runsubid)\n",
    "        file.create_dataset('rampflg', data = 1)\n",
    "        file.create_dataset('Tramp', data = Tramp)\n",
    "        \n",
    "    filename = SimFolder + 'initdata_' + str(TestName) + '.h5'\n",
    "    \n",
    "    if op.exists(filename): \n",
    "        os.remove(filename)\n",
    "    \n",
    "    with h5py.File(filename,'w') as file:\n",
    "    \n",
    "        file.create_dataset('eta0', data = etar)\n",
    "        file.create_dataset('phi0', data = phir)\n",
    "        file.create_dataset('bat0', data = bathy)\n",
    "        \n",
    "    print \"Success!\"\n",
    "    print \"Output file written.\""
   ]
  },
  {
   "cell_type": "code",
   "execution_count": 4,
   "metadata": {
    "collapsed": false
   },
   "outputs": [
    {
     "ename": "TypeError",
     "evalue": "data type not understood",
     "output_type": "error",
     "traceback": [
      "\u001b[1;31m---------------------------------------------------------------------------\u001b[0m",
      "\u001b[1;31mTypeError\u001b[0m                                 Traceback (most recent call last)",
      "\u001b[1;32m<ipython-input-4-b29adea0a49a>\u001b[0m in \u001b[0;36m<module>\u001b[1;34m()\u001b[0m\n\u001b[0;32m     55\u001b[0m     \u001b[1;31m#default\u001b[0m\u001b[1;33m\u001b[0m\u001b[1;33m\u001b[0m\u001b[0m\n\u001b[0;32m     56\u001b[0m \u001b[1;33m\u001b[0m\u001b[0m\n\u001b[1;32m---> 57\u001b[1;33m \u001b[0mbathy\u001b[0m \u001b[1;33m=\u001b[0m \u001b[0mB\u001b[0m\u001b[1;33m.\u001b[0m\u001b[0mcreate_bathymetry\u001b[0m\u001b[1;33m(\u001b[0m\u001b[0mkx\u001b[0m\u001b[1;33m,\u001b[0m\u001b[0mky\u001b[0m\u001b[1;33m,\u001b[0m \u001b[0mType\u001b[0m \u001b[1;33m=\u001b[0m \u001b[1;34m'constant'\u001b[0m\u001b[1;33m)\u001b[0m\u001b[1;33m\u001b[0m\u001b[0m\n\u001b[0m\u001b[0;32m     58\u001b[0m \u001b[1;33m\u001b[0m\u001b[0m\n\u001b[0;32m     59\u001b[0m \u001b[0mplt\u001b[0m\u001b[1;33m.\u001b[0m\u001b[0mfigure\u001b[0m\u001b[1;33m(\u001b[0m\u001b[1;36m1\u001b[0m\u001b[1;33m)\u001b[0m\u001b[1;33m\u001b[0m\u001b[0m\n",
      "\u001b[1;32m/home/nicole/Development/hos/python/bathymetry.py\u001b[0m in \u001b[0;36mcreate_bathymetry\u001b[1;34m(kx, ky, **kwargs)\u001b[0m\n\u001b[0;32m     50\u001b[0m \u001b[1;33m\u001b[0m\u001b[0m\n\u001b[0;32m     51\u001b[0m     \u001b[1;32mif\u001b[0m \u001b[0mbathy_flag\u001b[0m \u001b[1;32min\u001b[0m \u001b[0mswitch\u001b[0m\u001b[1;33m:\u001b[0m\u001b[1;33m\u001b[0m\u001b[0m\n\u001b[1;32m---> 52\u001b[1;33m         \u001b[0mbathy\u001b[0m \u001b[1;33m=\u001b[0m \u001b[0mswitch\u001b[0m\u001b[1;33m[\u001b[0m\u001b[0mbathy_flag\u001b[0m\u001b[1;33m]\u001b[0m\u001b[1;33m(\u001b[0m\u001b[0mkx\u001b[0m\u001b[1;33m,\u001b[0m\u001b[0mky\u001b[0m\u001b[1;33m)\u001b[0m\u001b[1;33m\u001b[0m\u001b[0m\n\u001b[0m\u001b[0;32m     53\u001b[0m     \u001b[1;32melse\u001b[0m\u001b[1;33m:\u001b[0m \u001b[1;32mprint\u001b[0m \u001b[1;34m\"Bathymetry type not supported. Please check create_bathymetry.py for options.\"\u001b[0m\u001b[1;33m\u001b[0m\u001b[0m\n\u001b[0;32m     54\u001b[0m \u001b[1;33m\u001b[0m\u001b[0m\n",
      "\u001b[1;32m/home/nicole/Development/hos/python/bathymetry.py\u001b[0m in \u001b[0;36mbathy_constant\u001b[1;34m(kx, ky)\u001b[0m\n\u001b[0;32m     21\u001b[0m \u001b[1;32mdef\u001b[0m \u001b[0mbathy_constant\u001b[0m\u001b[1;33m(\u001b[0m\u001b[0mkx\u001b[0m\u001b[1;33m,\u001b[0m\u001b[0mky\u001b[0m\u001b[1;33m)\u001b[0m\u001b[1;33m:\u001b[0m\u001b[1;33m\u001b[0m\u001b[0m\n\u001b[0;32m     22\u001b[0m     \u001b[0mconst\u001b[0m \u001b[1;33m=\u001b[0m \u001b[1;36m34.0\u001b[0m\u001b[1;33m\u001b[0m\u001b[0m\n\u001b[1;32m---> 23\u001b[1;33m     \u001b[1;32mreturn\u001b[0m \u001b[0mnumpy\u001b[0m\u001b[1;33m.\u001b[0m\u001b[0mmultiply\u001b[0m\u001b[1;33m(\u001b[0m\u001b[0mconst\u001b[0m\u001b[1;33m,\u001b[0m \u001b[0mnumpy\u001b[0m\u001b[1;33m.\u001b[0m\u001b[0mones\u001b[0m\u001b[1;33m(\u001b[0m\u001b[0mlen\u001b[0m\u001b[1;33m(\u001b[0m\u001b[0mkx\u001b[0m\u001b[1;33m)\u001b[0m\u001b[1;33m,\u001b[0m \u001b[0mlen\u001b[0m\u001b[1;33m(\u001b[0m\u001b[0mky\u001b[0m\u001b[1;33m)\u001b[0m\u001b[1;33m)\u001b[0m\u001b[1;33m)\u001b[0m\u001b[1;33m\u001b[0m\u001b[0m\n\u001b[0m\u001b[0;32m     24\u001b[0m \u001b[1;33m\u001b[0m\u001b[0m\n\u001b[0;32m     25\u001b[0m \u001b[1;31m##\u001b[0m\u001b[1;33m\u001b[0m\u001b[1;33m\u001b[0m\u001b[0m\n",
      "\u001b[1;32m/usr/lib/python2.7/dist-packages/numpy/core/numeric.pyc\u001b[0m in \u001b[0;36mones\u001b[1;34m(shape, dtype, order)\u001b[0m\n\u001b[0;32m    176\u001b[0m \u001b[1;33m\u001b[0m\u001b[0m\n\u001b[0;32m    177\u001b[0m     \"\"\"\n\u001b[1;32m--> 178\u001b[1;33m     \u001b[0ma\u001b[0m \u001b[1;33m=\u001b[0m \u001b[0mempty\u001b[0m\u001b[1;33m(\u001b[0m\u001b[0mshape\u001b[0m\u001b[1;33m,\u001b[0m \u001b[0mdtype\u001b[0m\u001b[1;33m,\u001b[0m \u001b[0morder\u001b[0m\u001b[1;33m)\u001b[0m\u001b[1;33m\u001b[0m\u001b[0m\n\u001b[0m\u001b[0;32m    179\u001b[0m     \u001b[0mmultiarray\u001b[0m\u001b[1;33m.\u001b[0m\u001b[0mcopyto\u001b[0m\u001b[1;33m(\u001b[0m\u001b[0ma\u001b[0m\u001b[1;33m,\u001b[0m \u001b[1;36m1\u001b[0m\u001b[1;33m,\u001b[0m \u001b[0mcasting\u001b[0m\u001b[1;33m=\u001b[0m\u001b[1;34m'unsafe'\u001b[0m\u001b[1;33m)\u001b[0m\u001b[1;33m\u001b[0m\u001b[0m\n\u001b[0;32m    180\u001b[0m     \u001b[1;32mreturn\u001b[0m \u001b[0ma\u001b[0m\u001b[1;33m\u001b[0m\u001b[0m\n",
      "\u001b[1;31mTypeError\u001b[0m: data type not understood"
     ]
    }
   ],
   "source": [
    "SimFolder = '/home/nicole/Development/hos/python/'\n",
    "TestName  = 'test'\n",
    "\n",
    "#-- Labels for the simulation run\n",
    "saveflg  = 1\n",
    "runsubid = 1\n",
    "\n",
    "#-- Wave field Parameters \n",
    "g     = 9.8               #acceleration due to gravity\n",
    "\n",
    "#-- Discretization: Number of cells in x and y direction\n",
    "alpha = 9\n",
    "Nx = 2**alpha            #fourier modes in x/y directions\n",
    "Ny = Nx\n",
    "\n",
    "#kp      = 4*pi^2/g; %(Tp = 1sec)\n",
    "kp      = 0.033;                #for deep water\n",
    "lmbda  = 2*np.pi/kp;\n",
    "omega_p = np.sqrt(g*kp);\n",
    "epsilon = 0.12;\n",
    "theta_p = 12;\n",
    "h       = 1000;             #water depth... set high to induce deep water effects\n",
    "sigma   = epsilon/2/kp;     #desired eta variance\n",
    "hs      = 4*sigma;          #significant wave height (hs = 0.005)\n",
    "\n",
    "\n",
    "#kpx = kp*np.cos(theta_p);\n",
    "#kpy = kp*np.sin(theta_p);\n",
    "\n",
    "#-- Length of the domain\n",
    "Lx = 64*lmbda              # Lx = 1*ceil(((epsilon^-2)*pi/kp)); Lx  = 16*lambda;4.*np.pi\n",
    "Ly  = Lx                   # Ly = 4.*np.pi/sqrt(3.)\n",
    "     \n",
    "#-- Wavenumber Domain\n",
    "kx = 2*np.pi/Lx*np.arange(-Nx/2,Nx/2)\n",
    "ky = 2*np.pi/Ly*np.arange(-Ny/2,Ny/2)\n",
    "\n",
    "#-- Time parameters\n",
    "Tp     = 1                     #Tp = 2*pi/omega_p;\n",
    "T      = 150*Tp                #-- Final simulation time #T=100; 20; T= 2*floor((epsilon^(-2)))*Tp; #BF timescale\n",
    "dtsave = 1.0\n",
    "\n",
    "Tramp  = 200\n",
    "\n",
    "# The options for the different spectra\n",
    "switch = {'JONSWAP': CS.create_jonswap,\n",
    "          'Gauss': CS.create_gauss,\n",
    "          'Stokes': CS.create_stokes}\n",
    "\n",
    "# You choose:\n",
    "value = \"JONSWAP\"\n",
    "\n",
    "if value in switch:\n",
    "     etar, phir = switch[value](kx,ky)\n",
    "else:\n",
    "     pass\n",
    "    \n",
    "bathy = B.create_bathymetry(kx,ky, Type = 'constant')\n",
    "        \n",
    "plt.figure(1)\n",
    "plt.contourf(kx,ky,etar, cmap=plt.get_cmap(\"Blues\"))\n",
    "plt.colorbar()\n",
    "plt.title(\"Deviation from mean water level\")\n",
    "plt.xlabel(\"kx\")\n",
    "plt.ylabel(\"ky\")\n",
    "plt.show()\n",
    "\n",
    "# Write information\n",
    "write_hdf5(SimFolder, TestName, Nx, Ny, Lx, Ly, g, h, T, dtsave, saveflg, runsubid, Tramp, etar, phir, bathy)"
   ]
  },
  {
   "cell_type": "code",
   "execution_count": null,
   "metadata": {
    "collapsed": true
   },
   "outputs": [],
   "source": []
  },
  {
   "cell_type": "code",
   "execution_count": null,
   "metadata": {
    "collapsed": true
   },
   "outputs": [],
   "source": []
  }
 ],
 "metadata": {
  "kernelspec": {
   "display_name": "Python 2",
   "language": "python",
   "name": "python2"
  },
  "language_info": {
   "codemirror_mode": {
    "name": "ipython",
    "version": 2
   },
   "file_extension": ".py",
   "mimetype": "text/x-python",
   "name": "python",
   "nbconvert_exporter": "python",
   "pygments_lexer": "ipython2",
   "version": "2.7.6"
  }
 },
 "nbformat": 4,
 "nbformat_minor": 0
}
