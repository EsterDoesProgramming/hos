{
 "cells": [
  {
   "cell_type": "markdown",
   "metadata": {
    "collapsed": true
   },
   "source": [
    "<table>\n",
    " <tr align=left><td><img align=left src=\"https://i.creativecommons.org/l/by/4.0/88x31.png\">\n",
    " <td>Text provided under a Creative Commons Attribution license, CC-BY. All code is made available under the FSF-approved MIT license.  \n",
    "(c) Nicole Beisiegel</td>\n",
    "</table>"
   ]
  },
  {
   "cell_type": "code",
   "execution_count": 2,
   "metadata": {
    "collapsed": false
   },
   "outputs": [],
   "source": [
    "import numpy as np\n",
    "import h5py\n",
    "import matplotlib.pyplot as plt\n",
    "\n",
    "from write_hdf5 import *\n",
    "from CreateSpectra import *\n",
    "from bathymetry import *"
   ]
  },
  {
   "cell_type": "markdown",
   "metadata": {},
   "source": [
    "# HOS: A High-Order Spectral Model for 3D Water Wave Simulations\n",
    "## Creating Your Own Initial Conditions\n",
    "\n",
    "This notebook will help you to create your own initial conditions to use with the **HOS** model. \n",
    "\n",
    "To get familiar with the model before that, please check out the _testsuite_ that I have created. Information on the standardized _testsuite_ can be found [here.](HOS_Visualization.ipynb)\n",
    "It is also advised that, before you send a PR (pull request) @beisiegel on **GitHub** that you run the _testsuite_ to ensure that all features are still running with your changes.\n",
    "\n",
    "This script produces initial conditions in HDF5 format for the HOS model and plots the initial sea surface elevation $\\eta$, the velocity potential $\\phi_{tot}$ and the bathymetry $b$ for time $t=0$.\n",
    "\n",
    "Current options are for the ..\n",
    "\n",
    "..**SPECTRUM**: \n",
    "\n",
    "- \"``JONSWAP``\": A Jonswap spectrum (Please specify Jonswap parameters below by editing ``JonswapParam``.)\n",
    "- \"``RF``\": Stream function solution of Rienecker & Fenton (1981)\n",
    "- \"``GAUSS``\": Currently under development\n",
    "- \"``STOKES``\": Currently under development\n",
    "\n",
    "..**BATHYMETRY**:\n",
    "\n",
    "- \"``zero``\": No bathymetry\n",
    "- \"``constant``\": Bathymetry that is constant (=base) everywhere, specify value for base in ``bathyParam``\n",
    "- \"``linear``\": A linear sloping bathymetry with base (=base) and slope (=slope) to be specified in ``bathyParam``"
   ]
  },
  {
   "cell_type": "code",
   "execution_count": 10,
   "metadata": {
    "collapsed": false
   },
   "outputs": [
    {
     "name": "stdout",
     "output_type": "stream",
     "text": [
      "Success!\n",
      "Output files written.\n"
     ]
    }
   ],
   "source": [
    "#------------------------------------------------------------------\n",
    "#-- To be altered by user\n",
    "\n",
    "SimFolder = '/home/nicole/Development/hos/python/'\n",
    "TestName  = 'test'\n",
    "\n",
    "#-- You choose (type of spectrum and bathymetry):\n",
    "spectrum = \"RF\"\n",
    "bathymetry = \"linear\"\n",
    "\n",
    "   \n",
    "JonswapParam = {'g': 9.81, 'gamma': 3.3, 'alpha_p': 0.081, 'dir_spr': 40.*np.pi/180., 'kp': 0.033, \\\n",
    "                'lmbda': 2*np.pi/0.033,'omega_p': np.sqrt(9.81*0.033), 'epsilon': 0.12, 'theta_p': 0.0,\\\n",
    "                'h': 1000., 'sigma': 0.06/0.033, 'hs': (0.24/0.033)}\n",
    "\n",
    "GaussParam = {}\n",
    "StokesParam ={}\n",
    "\n",
    "#-- Set your parameters here\n",
    "parameters = JonswapParam  \n",
    "#parameters = GaussParam\n",
    "#parameters = StokesParam\n",
    "\n",
    "#-- Set bathymetry config here\n",
    "bathyParam = {'base': .20, 'slope': 0.01 }\n",
    "    \n",
    "#-- Labels for the simulation run\n",
    "saveflg  = 1\n",
    "runsubid = 1\n",
    "\n",
    "#-- Discretization: Number of cells (fourier modes) in x and y direction\n",
    "alpha = 7\n",
    "Nx    = 2**alpha  \n",
    "Ny    = Nx\n",
    "\n",
    "#-- Length of the domain\n",
    "Lx  = 64*parameters['lmbda']  \n",
    "Ly  = Lx                \n",
    "\n",
    "#-- Time parameters\n",
    "Tp     = 1  \n",
    "T      = 150 * Tp   \n",
    "dtsave = 1.0\n",
    "\n",
    "#-- Filtering Parameter\n",
    "Tramp  = 200\n",
    "\n",
    "#------------------------------------------------------------------\n",
    "#-- Only internal subroutines follow\n",
    "\n",
    "#-- Wavenumber domain\n",
    "kx = 2*np.pi/Lx*np.arange(-Nx/2,Nx/2)\n",
    "ky = 2*np.pi/Ly*np.arange(-Ny/2,Ny/2)\n",
    "\n",
    "#-- The options for the different spectra\n",
    "switch = {'JONSWAP': create_jonswap,\n",
    "          'RF': create_rieneckerfenton,\n",
    "          'Gauss': create_gauss,\n",
    "          'Stokes': create_stokes}\n",
    "\n",
    "if spectrum in switch:\n",
    "     etar, phir = switch[spectrum](kx,ky,Param = parameters)\n",
    "else:\n",
    "     pass\n",
    "\n",
    "bathy = create_bathymetry(kx,ky, Type = bathymetry, Param = bathyParam)\n",
    "\n",
    "#-- Plot initial condition\n",
    "plt.figure(1)\n",
    "plt.suptitle(\"Initial Condition TYPE: \"+str(spectrum),fontsize=18)\n",
    "\n",
    "plt.subplot(221)\n",
    "plt.pcolormesh(kx,ky,etar, cmap=plt.get_cmap(\"Blues\"))\n",
    "plt.colorbar()\n",
    "plt.title(\"Initial Sea Surface Elevation $\\eta$\")\n",
    "plt.xlabel(\"kx\")\n",
    "plt.xlim(np.amin(kx), np.amax(kx))\n",
    "plt.ylabel(\"ky\")\n",
    "plt.ylim(np.amin(ky), np.amax(ky))\n",
    "\n",
    "plt.subplot(222)\n",
    "plt.pcolormesh(kx,ky,bathy, cmap=plt.get_cmap(\"Greys\"))\n",
    "plt.colorbar()    \n",
    "plt.title(\"Bathymetry $b$\")\n",
    "plt.xlabel(\"kx\")\n",
    "plt.xlim(np.amin(kx), np.amax(kx))\n",
    "plt.ylabel(\"ky\")\n",
    "plt.ylim(np.amin(ky), np.amax(ky))\n",
    "\n",
    "plt.subplot(223)\n",
    "plt.pcolormesh(kx,ky,phir, cmap=plt.get_cmap(\"Greens\"))\n",
    "plt.colorbar()\n",
    "plt.title(\"Initial Velocity Potential $\\phi_{tot}$\")\n",
    "plt.xlabel(\"kx\")\n",
    "plt.xlim(np.amin(kx), np.amax(kx))\n",
    "plt.ylabel(\"ky\")\n",
    "plt.ylim(np.amin(ky), np.amax(ky))\n",
    "\n",
    "plt.tight_layout()\n",
    "plt.show()\n",
    "\n",
    "#-- Write information\n",
    "write_hdf5(SimFolder, TestName, Nx, Ny, Lx, Ly, parameters['g'], parameters['h'], T, dtsave, saveflg, runsubid, \\\n",
    "           Tramp, etar, phir, bathy) "
   ]
  },
  {
   "cell_type": "code",
   "execution_count": null,
   "metadata": {
    "collapsed": true
   },
   "outputs": [],
   "source": []
  }
 ],
 "metadata": {
  "kernelspec": {
   "display_name": "Python 2",
   "language": "python",
   "name": "python2"
  },
  "language_info": {
   "codemirror_mode": {
    "name": "ipython",
    "version": 2
   },
   "file_extension": ".py",
   "mimetype": "text/x-python",
   "name": "python",
   "nbconvert_exporter": "python",
   "pygments_lexer": "ipython2",
   "version": "2.7.6"
  }
 },
 "nbformat": 4,
 "nbformat_minor": 0
}
