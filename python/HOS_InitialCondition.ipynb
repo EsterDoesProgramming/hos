{
 "cells": [
  {
   "cell_type": "code",
   "execution_count": 1,
   "metadata": {
    "collapsed": false
   },
   "outputs": [],
   "source": [
    "import numpy as np\n",
    "import h5py\n",
    "import os.path as op\n",
    "import os \n",
    "import JONSWAP as J\n",
    "import OmegaTheta as OT\n",
    "import CreateSpectra as CS\n",
    "import DtoF as DF\n",
    "import bathymetry as B\n",
    "import matplotlib.pyplot as plt\n",
    "from mpl_toolkits.mplot3d import Axes3D"
   ]
  },
  {
   "cell_type": "markdown",
   "metadata": {},
   "source": [
    "# HOS: Initial Conditions\n",
    "\n",
    "This script produces initial conditions in HDF5 format for the HOS model."
   ]
  },
  {
   "cell_type": "code",
   "execution_count": 4,
   "metadata": {
    "collapsed": false
   },
   "outputs": [],
   "source": [
    "def write_hdf5(SimFolder, TestName, Nx, Ny, Lx, Ly, g, h, T, dtsave, saveflg, runsubid, Tramp, etar, phir, bathy):\n",
    "\n",
    "    filename = SimFolder + 'initpars_' + str(TestName) + '.h5'\n",
    "    \n",
    "    if op.exists(filename): \n",
    "        os.remove(filename)\n",
    "    \n",
    "    with h5py.File(filename,'w') as file:\n",
    "\n",
    "        file.create_dataset('Nx', data = Nx)\n",
    "        file.create_dataset('Ny', data = Ny)\n",
    "        file.create_dataset('Lx', data = Lx)\n",
    "        file.create_dataset('Ly', data = Ly)\n",
    "        file.create_dataset('g', data = g)\n",
    "        file.create_dataset('KP', data = 10000)\n",
    "        file.create_dataset('h', data = h)\n",
    "        file.create_dataset('T', data = T)\n",
    "        file.create_dataset('dtsave', data = dtsave)\n",
    "        file.create_dataset('saveflg', data = saveflg)\n",
    "        file.create_dataset('runsubid', data = runsubid)\n",
    "        file.create_dataset('rampflg', data = 1)\n",
    "        file.create_dataset('Tramp', data = Tramp)\n",
    "        \n",
    "    filename = SimFolder + 'initdata_' + str(TestName) + '.h5'\n",
    "    \n",
    "    if op.exists(filename): \n",
    "        os.remove(filename)\n",
    "    \n",
    "    with h5py.File(filename,'w') as file:\n",
    "    \n",
    "        file.create_dataset('eta0', data = etar)\n",
    "        file.create_dataset('phi0', data = phir)\n",
    "        file.create_dataset('bat0', data = bathy)\n",
    "        \n",
    "    print \"Success!\"\n",
    "    print \"Output files written.\""
   ]
  },
  {
   "cell_type": "code",
   "execution_count": 5,
   "metadata": {
    "collapsed": false
   },
   "outputs": [
    {
     "name": "stdout",
     "output_type": "stream",
     "text": [
      "Success!\n",
      "Output files written.\n"
     ]
    }
   ],
   "source": [
    "SimFolder = '/home/nicole/Development/hos/python/'\n",
    "TestName  = 'test'\n",
    "\n",
    "#-- Labels for the simulation run\n",
    "saveflg  = 1\n",
    "runsubid = 1\n",
    "\n",
    "#-- Wave field Parameters \n",
    "g     = 9.81               #acceleration due to gravity\n",
    "\n",
    "#-- Discretization: Number of cells (fourier modes) in x and y direction\n",
    "alpha = 9\n",
    "Nx    = 2**alpha  \n",
    "Ny    = Nx\n",
    "\n",
    "#kp      = 4*pi^2/g; %(Tp = 1sec)\n",
    "kp      = 0.033;                #for deep water\n",
    "lmbda   = 2*np.pi/kp\n",
    "omega_p = np.sqrt(g*kp)\n",
    "epsilon = 0.12 \n",
    "theta_p = 12 \n",
    "h       = 1000.             #water depth... set high to induce deep water effects\n",
    "sigma   = epsilon/2/kp      #desired eta variance\n",
    "hs      = 4*sigma           #significant wave height (hs = 0.005)\n",
    "\n",
    "#-- Length of the domain\n",
    "Lx = 64*lmbda              # Other choices could be: Lx = 1*ceil(((epsilon^-2)*pi/kp)); Lx  = 16*lambda;4.*np.pi\n",
    "Ly  = Lx                   # Ly = 4.*np.pi/sqrt(3.)\n",
    "     \n",
    "#-- Wavenumber Domain\n",
    "kx = 2*np.pi/Lx*np.arange(-Nx/2,Nx/2)\n",
    "ky = 2*np.pi/Ly*np.arange(-Ny/2,Ny/2)\n",
    "\n",
    "#-- Time parameters\n",
    "Tp     = 1                     #Tp = 2*pi/omega_p;\n",
    "T      = 150*Tp                #-- Final simulation time #T=100; 20; T= 2*floor((epsilon^(-2)))*Tp; #BF timescale\n",
    "dtsave = 1.0\n",
    "\n",
    "Tramp  = 200\n",
    "\n",
    "# The options for the different spectra\n",
    "switch = {'JONSWAP': CS.create_jonswap,\n",
    "          'Gauss': CS.create_gauss,\n",
    "          'Stokes': CS.create_stokes}\n",
    "\n",
    "# You choose:\n",
    "spectrum = \"JONSWAP\"\n",
    "bathymetry = \"constant\"\n",
    "\n",
    "if spectrum in switch:\n",
    "     etar, phir = switch[value](kx,ky)\n",
    "else:\n",
    "     pass\n",
    "    \n",
    "bathy = B.create_bathymetry(kx,ky, Type = bathymetry)\n",
    "        \n",
    "plt.figure(1)\n",
    "plt.contourf(kx,ky,etar, cmap=plt.get_cmap(\"Blues\"))\n",
    "plt.colorbar()\n",
    "plt.title(\"Deviation from mean water level\")\n",
    "plt.xlabel(\"kx\")\n",
    "plt.ylabel(\"ky\")\n",
    "plt.show()\n",
    "\n",
    "# Write information\n",
    "write_hdf5(SimFolder, TestName, Nx, Ny, Lx, Ly, g, h, T, dtsave, saveflg, runsubid, Tramp, etar, phir, bathy)"
   ]
  },
  {
   "cell_type": "code",
   "execution_count": null,
   "metadata": {
    "collapsed": true
   },
   "outputs": [],
   "source": []
  },
  {
   "cell_type": "code",
   "execution_count": null,
   "metadata": {
    "collapsed": true
   },
   "outputs": [],
   "source": []
  }
 ],
 "metadata": {
  "kernelspec": {
   "display_name": "Python 2",
   "language": "python",
   "name": "python2"
  },
  "language_info": {
   "codemirror_mode": {
    "name": "ipython",
    "version": 2
   },
   "file_extension": ".py",
   "mimetype": "text/x-python",
   "name": "python",
   "nbconvert_exporter": "python",
   "pygments_lexer": "ipython2",
   "version": "2.7.6"
  }
 },
 "nbformat": 4,
 "nbformat_minor": 0
}
